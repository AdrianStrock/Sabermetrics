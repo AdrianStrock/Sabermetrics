{
 "cells": [
  {
   "cell_type": "markdown",
   "metadata": {},
   "source": [
    "Version 1.0\n",
    "\n",
    "An introduction to a new baseball stat: Pitching Under Pressure - PUP and Batting Under Pressure - BUP. This notebook will allow you to calculate any player's BUP/PUP for a certain year and for certain stats. Please see documentation for which stats and years are allowed."
   ]
  },
  {
   "cell_type": "markdown",
   "metadata": {},
   "source": [
    "What is BUP/PUP?\n",
    "\n",
    "BUP/PUP are stats that attempt to capture a player's performance in clutch situations. For our purposes, a clutch situation is defined as any play in the 7th inning or later in which the winning/tied team can fall behind. A non-clutch situation will be any play which is not in this subset. A hitter's BUP(BA) will thus be calculated by subtracting his BA in non-clutch situations from his BA in clutch situations. "
   ]
  },
  {
   "cell_type": "code",
   "execution_count": 13,
   "metadata": {},
   "outputs": [],
   "source": [
    "# Import Statcast Data \n",
    "# The data was prefiltered on statcast to meet the requirements\n",
    "import pandas as pd\n",
    "\n",
    "pitching2018 = pd.read_csv('All_Pitching2018.csv')\n",
    "clutchPitching2018 = pd.read_csv('Clutch_Pitching2018.csv')\n",
    "hitting2018 = pd.read_csv('All_Hitting_2018.csv')\n",
    "clutchHitting = pd.read_csv('Clutch_Hitting_2018P2.csv')"
   ]
  },
  {
   "cell_type": "code",
   "execution_count": 14,
   "metadata": {},
   "outputs": [
    {
     "name": "stdin",
     "output_type": "stream",
     "text": [
      "Do you want to data for a pitcher or batter? big love\n",
      "Which player do want to know? sad\n",
      "What stat do you want to know?  happy\n"
     ]
    }
   ],
   "source": [
    "a = input(\"Do you want to data for a pitcher or batter?\")\n",
    "b = input(\"Which player do want to know?\")\n",
    "c = input(\"What stat do you want to know? \")"
   ]
  },
  {
   "cell_type": "markdown",
   "metadata": {},
   "source": [
    "Run the next cell for your answer!"
   ]
  },
  {
   "cell_type": "code",
   "execution_count": 4,
   "metadata": {},
   "outputs": [
    {
     "name": "stdout",
     "output_type": "stream",
     "text": [
      "Sorry I didn't recognize your input\n"
     ]
    }
   ],
   "source": [
    "if a == 'batter':\n",
    "    batter1 = clutchHitting.loc[(clutchHitting['player_name']==b)]\n",
    "    batter2 = hitting2018.loc[(hitting['player_name'])==b]\n",
    "    if c == 'BA':\n",
    "        clutchBA = batter1.iloc[:,5]\n",
    "        regBA = batter2.iloc[:,5]\n",
    "        print(b,'s BA under in clutch situations is:',clutchBA,'\\n')\n",
    "        print(b,'s BA under in regular situations is:',regBA,'n')\n",
    "        print('His BUP(BA) is: ', (100*clutchBA-regBA))\n",
    "    if c == 'SLG'\n",
    "        clutchSLG = batter1.iloc[:,8]\n",
    "        regSLG = batter2.iloc[:,8]\n",
    "        print(b,'s SLG in clutch situations is:',clutchSLG,'\\n')\n",
    "        print(b,'s SLG in in regular situations is:',regSLG,'n')\n",
    "        print('His BUP(SLG) is: ', (100*clutchSLG-regSLG))\n",
    "    if c == \"wOBA\":\n",
    "        clutchwOBA = batter1.iloc[:,9]\n",
    "        regwOBA = batter2.iloc[:,9]\n",
    "        print(b,'s wOBA under in clutch situations is:',clutchwOBA,'\\n')\n",
    "        print(b,'s wOBA under in regular situations is:',regwOBA,'n')\n",
    "        print('His BUP(wOBA) is: ', (100*clutchwOBA-regwOBA))\n",
    "elif a == 'pitcher':\n",
    "    pitcher1 = clutchPitching2018.loc[(clutchPitching2018['player_name']==b)]\n",
    "    pitcher2 = pitching2018.loc[(pitching2018['player_name']==b)]\n",
    "    if c == 'Opp_BA':\n",
    "        clutchOBA = pitcher1.iloc[:,5]\n",
    "        regOBA = pitcher2.iloc[:,5]\n",
    "        print(b,'s opponent BA under in clutch situations is:',clutchOBA,'\\n')\n",
    "        print(b,'s opponent BA under in regular situations is:',regOBA,'n')\n",
    "        print('His BUP(Oppenent BA) is: ', (100*clutchBA-regBA))\n",
    "    if c == 'S&M'\n",
    "        clutchSM = pitcher1.iloc[:,19]/pitcher1.iloc[:,20]\n",
    "        regSM = pitcher1.iloc[:,19]/pitcher1.iloc[:,20]\n",
    "        print(b,'s opponent swing and misses in clutch situations is:',clutchSM,'\\n')\n",
    "        print(b,'s opponent swing and misses in regular situations is:',regSM,'n')\n",
    "        print('His BUP(Oppenent BA) is: ', (100*clutchBA-regBA))\n",
    "    if c == 'Opp_Woba':\n",
    "        clutchOWOBA = pitcher1.iloc[:,19]/pitcher1.iloc[:,20]\n",
    "        regOWOBA = pitcher1.iloc[:,19]/pitcher1.iloc[:,20]\n",
    "        print(b,'s opponent wOBA in clutch situations is:',clutchOWOBA,'\\n')\n",
    "        print(b,'s opponent wOBA in regular situations is:',regOWOBA,'n')\n",
    "        print('His BUP(Oppenent wOBA) is: ', (100*clutchBA-regBA))\n",
    "else:\n",
    "    print(\"Sorry I didn't recognize your input\")"
   ]
  },
  {
   "cell_type": "code",
   "execution_count": 10,
   "metadata": {},
   "outputs": [],
   "source": []
  }
 ],
 "metadata": {
  "kernelspec": {
   "display_name": "Python 3",
   "language": "python",
   "name": "python3"
  },
  "language_info": {
   "codemirror_mode": {
    "name": "ipython",
    "version": 3
   },
   "file_extension": ".py",
   "mimetype": "text/x-python",
   "name": "python",
   "nbconvert_exporter": "python",
   "pygments_lexer": "ipython3",
   "version": "3.6.7"
  }
 },
 "nbformat": 4,
 "nbformat_minor": 2
}
