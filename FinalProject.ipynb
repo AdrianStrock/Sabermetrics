{
 "cells": [
  {
   "cell_type": "markdown",
   "metadata": {},
   "source": [
    "Version 1.5\n",
    "\n",
    "An introduction to a new baseball stat: Pitching Under Pressure - PUP and Batting Under Pressure - BUP. This notebook will allow you to calculate any player's BUP/PUP for a certain year and for certain stats. Please see documentation for which stats and years are allowed."
   ]
  },
  {
   "cell_type": "markdown",
   "metadata": {},
   "source": [
    "What is BUP/PUP?\n",
    "\n",
    "BUP/PUP are stats that attempt to capture a player's performance in clutch situations. For our purposes, a clutch situation is defined as any play in the 7th inning or later in which the winning/tied team can fall behind. A non-clutch situation will be any play which is not in this subset. A hitter's BUP(BA) will thus be calculated by subtracting his BA in non-clutch situations from his BA in clutch situations. "
   ]
  },
  {
   "cell_type": "code",
   "execution_count": 2,
   "metadata": {},
   "outputs": [],
   "source": [
    "# Import Statcast Data \n",
    "# The data was prefiltered on statcast to meet the requirements\n",
    "import pandas as pd\n",
    "\n",
    "pitching2018 = pd.read_csv('All_Pitching2018.csv')\n",
    "clutchPitching2018 = pd.read_csv('Clutch_Pitching2018.csv')\n",
    "hitting2018 = pd.read_csv('All_Hitting_2018.csv')\n",
    "clutchHitting2018 = pd.read_csv('Clutch_Hitting_2018P2.csv')\n",
    "\n",
    "pitching2017 = pd.read_csv('All_Pitching_2017.csv')\n",
    "clutchPitching2017 = pd.read_csv('Clutch_Pitching_2017.csv')\n",
    "hitting2017 = pd.read_csv('All_Hitting_2017.csv')\n",
    "clutchHitting2017 = pd.read_csv('Clutch_Hitting_2017.csv')"
   ]
  },
  {
   "cell_type": "markdown",
   "metadata": {},
   "source": [
    "In the following cell, the 'current' valid inputs are:\n",
    "a can accept 'batter', 'pitcher'\n",
    "b accepts any player who played in the year in the form 'Firstname Lastname'.\n",
    "c accepts 'BA', 'SLG', 'wOBA' for if you typed batter for a\n",
    "d accepts 'Opp_BA', 'Whiff_Rate, 'Opp_wOBA' if you typed pitcher for a"
   ]
  },
  {
   "cell_type": "code",
   "execution_count": null,
   "metadata": {},
   "outputs": [],
   "source": [
    "a = input(\"Do you want a pitcher or a batter?\")\n",
    "b = input(\"Which player do you want?\")\n",
    "c = input(\"What stat do you want?\")\n",
    "d = input(\"What year do you want?\")"
   ]
  },
  {
   "cell_type": "code",
   "execution_count": 3,
   "metadata": {},
   "outputs": [
    {
     "name": "stdout",
     "output_type": "stream",
     "text": [
      "Mike Trout has a clutch BA of:  0.262 \n",
      "\n",
      "Mike Trout has a regular BA of:  0.311 \n",
      "\n",
      "His BUP(BA) is:  -4.899999999999999\n"
     ]
    }
   ],
   "source": [
    "if d == '2018':\n",
    "    #2018 Batter's BUP\n",
    "#-----------------------------------------------------------------------------------    \n",
    "    if a == 'batter':\n",
    "        batter1 = clutchHitting2018.loc[(clutchHitting2018['player_name']==b)]\n",
    "        batter2 = hitting2018.loc[(hitting2018['player_name'])==b]\n",
    "        \n",
    "        if c == 'BA':\n",
    "            clutchBA = batter1['ba'].values\n",
    "            regBA = batter2['ba'].values\n",
    "            print(b,'has a clutch BA of: ',clutchBA[0],'\\n')\n",
    "            print(b,'has a regular BA of: ',regBA[0],'\\n')\n",
    "            print('His BUP(BA) is: ', 100*(clutchBA[0]-regBA[0]))\n",
    "            \n",
    "        if c == 'SLG':\n",
    "            clutchSLG = batter1['slg'].values\n",
    "            regSLG = batter2['slg'].values\n",
    "            print(b,'has a clutch SLG of: ',clutchSLG[0],'\\n')\n",
    "            print(b,'has a regular SLG of: ',regSLG[0],'\\n')\n",
    "            print('His BUP(SLG) is: ', 100*(clutchSLG[0]-regSLG[0]))\n",
    "            \n",
    "        if c == \"wOBA\":\n",
    "            clutchwOBA = batter1['woba'].values\n",
    "            regwOBA = batter2['woba'].values\n",
    "            print(b,'has a clutch wOBA of: ',clutchwOBA[0],'\\n')\n",
    "            print(b,'has a regular wOBA of: ',regwOBA[0],'\\n')\n",
    "            print('His BUP(wOBA) is: ', 100*(clutchwOBA[0]-regwOBA[0]))\n",
    "    \n",
    "# 2018 PUP---------------------------------------------------------------------------------            \n",
    "    elif a == 'pitcher':\n",
    "        pitcher1 = clutchPitching2018.loc[(clutchPitching2018['player_name']==b)]\n",
    "        pitcher2 = pitching2018.loc[(pitching2018['player_name']==b)]\n",
    "        \n",
    "        if c == 'Opp_BA':\n",
    "            clutchOBA = pitcher1['ba'].values\n",
    "            regOBA = pitcher2['ba'].values\n",
    "            print('Opponents had a clutch BA of:',clutchOBA[0],'against',b,'\\n')\n",
    "            print('Oppenents had a regular BA of:',regOBA[0],'against',b,'\\n')\n",
    "            print('His PUP(Oppenent BA) is: ',(100*(clutchOBA[0]-regOBA[0])))\n",
    "            \n",
    "        if c == 'Whiff_Rate':\n",
    "            clutchSM = (pitcher1['whiffs'].values)/(pitcher1['swings'].values)\n",
    "            regSM = (pitcher2['whiffs'].values)/(pitcher2['swings'].values)\n",
    "            print('Opponents had a clutch whiff rate of:',clutchSM[0],'against',b,'\\n')\n",
    "            print('Opponents had a regular whiff rate of:',regSM[0],'against',b,'\\n')\n",
    "            print('His whiff PUP(Oppenent BA) is: ',(100*(clutchSM[0]-regSM[0])))\n",
    "            \n",
    "        if c == 'Opp_wOBA':\n",
    "            clutchOWOBA = pitcher1['woba'].values\n",
    "            regOWOBA = pitcher2['woba'].values\n",
    "            print(b,'s opponent wOBA in clutch situations is:',clutchOWOBA[0],'\\n')\n",
    "            print(b,'s opponent wOBA in regular situations is:',regOWOBA[0],'\\n')\n",
    "            print('His PUP(Oppenent wOBA) is: ', (100*(clutchOWOBA[0]-regOWOBA[0])))\n",
    "#---------------------------------------------------------------------------------------        \n",
    "    else:\n",
    "        print(\"Sorry I didn't recognize your input\")\n",
    "        \n",
    "elif d == '2017':\n",
    "    \n",
    "    if a == 'batter':\n",
    "        \n",
    "        batter1 = clutchHitting2017.loc[(clutchHitting2017['player_name']==b)]\n",
    "        batter2 = hitting2017.loc[(hitting2017['player_name'])==b]\n",
    "        \n",
    "        if c == 'BA':\n",
    "            clutchBA = batter1['ba'].values\n",
    "            regBA = batter2['ba'].values\n",
    "            print(b,'has a clutch BA of: ',clutchBA[0],'\\n')\n",
    "            print(b,'has a regular BA of: ',regBA[0],'\\n')\n",
    "            print('His BUP(BA) is: ', 100*(clutchBA[0]-regBA[0]))\n",
    "            \n",
    "        if c == 'SLG':\n",
    "            clutchSLG = batter1['slg'].values\n",
    "            regSLG = batter2['slg'].values\n",
    "            print(b,'has a clutch SLG of: ',clutchSLG[0],'\\n')\n",
    "            print(b,'has a regular SLG of: ',regSLG[0],'\\n')\n",
    "            print('His BUP(SLG) is: ', 100*(clutchSLG[0]-regSLG[0]))\n",
    "            \n",
    "        if c == \"wOBA\":\n",
    "            clutchwOBA = batter1['woba'].values\n",
    "            regwOBA = batter2['woba'].values\n",
    "            print(b,'has a clutch wOBA of: ',clutchwOBA[0],'\\n')\n",
    "            print(b,'has a regular wOBA of: ',regwOBA[0],'\\n')\n",
    "            print('His BUP(wOBA) is: ', 100*(clutchwOBA[0]-regwOBA[0]))\n",
    "    \n",
    "#----------------------------------------------------------------------------------            \n",
    "    elif a == 'pitcher':\n",
    "        \n",
    "        pitcher1 = clutchPitching2017.loc[(clutchPitching2017['player_name']==b)]\n",
    "        pitcher2 = pitching2017.loc[(pitching2017['player_name']==b)]\n",
    "        \n",
    "        if c == 'Opp_BA':\n",
    "            clutchOBA = pitcher1['ba'].values\n",
    "            regOBA = pitcher2['ba'].values\n",
    "            print('Opponents had a clutch BA of:',clutchOBA[0],'against',b,'\\n')\n",
    "            print('Oppenents had a regular BA of:',regOBA[0],'against',b,'\\n')\n",
    "            print('His PUP(Oppenent BA) is: ',(100*(clutchOBA[0]-regOBA[0])))\n",
    "            \n",
    "        if c == 'Whiff_Rate':\n",
    "            clutchSM = (pitcher1['whiffs'].values)/(pitcher1['swings'].values)\n",
    "            regSM = (pitcher2['whiffs'].values)/(pitcher2['swings'].values)\n",
    "            print('Opponents had a clutch whiff rate of:',clutchSM[0],'against',b,'\\n')\n",
    "            print('Opponents had a regular whiff rate of:',regSM[0],'against',b,'\\n')\n",
    "            print('His whiff PUP(Oppenent BA) is: ',(100*(clutchSM[0]-regSM[0])))\n",
    "            \n",
    "        if c == 'Opp_wOBA':\n",
    "            clutchOWOBA = pitcher1['woba'].values\n",
    "            regOWOBA = pitcher2['woba'].values\n",
    "            print(b,'s opponent wOBA in clutch situations is:',clutchOWOBA[0],'\\n')\n",
    "            print(b,'s opponent wOBA in regular situations is:',regOWOBA[0],'\\n')\n",
    "            print('His PUP(Oppenent wOBA) is: ', (100*(clutchOWOBA[0]-regOWOBA[0])))\n",
    "    \n",
    "else:\n",
    "    print(\"We don't have that year!\")"
   ]
  },
  {
   "cell_type": "markdown",
   "metadata": {},
   "source": [
    "Run the next cell for your answer!"
   ]
  },
  {
   "cell_type": "markdown",
   "metadata": {},
   "source": [
    "I like this project - DON"
   ]
  },
  {
   "cell_type": "markdown",
   "metadata": {},
   "source": [
    "Evaluating BUB/PUP: A comparison with Clutch(Fangraphs)\n",
    "\n",
    "Because the idea of 'clutchness' has been around as long as people have been playing baseball, we have many ways of measuring  it. One of the most respected statistics for doing so is Clutch from Fangraphs. To see how our statistic measures up against Clutch, let's compare our scores for players with their corresponding Clutch score. *Note the fangraphs data was captured from fangraph.com and the BUP/PUP scores were obtained from the above demonstration.\n",
    "\n",
    "Player          | Clutch | BUP(BA) | BUP(wOBA) | BUP(SLG)\n",
    "---------------------------------------------------------\n",
    "Mike Trout      |  -2.3  |  -20.8  |  -26.4    | -42.9\n",
    "Alex Bregman    |  1.48  |   1.60  |  -4.10    | -13.4\n",
    "Mookie Betts    | -.15   |  -3.99  |  -1.00    |   4.5\n",
    "Brain Anderson  |  1.76  |  10.29  |   8.59    |  10.29\n",
    "Yasmani Grandal | -2.42  |  -5.60  |   -8.70   | -13.70\n",
    "\n",
    "Clutch works on a scale of ~ 2.5 to -2.5. 0 is average and most players will lie between 0 and 1. Anything above -2/2 is considered 'awful'/'great'. Because BUP can be calculated for different stats with different scales, we must consider scaling when evaluating PUP.\n",
    "\n",
    "For instance, Mike Trout has a -2.3 Clutch rating. This is terrible by their standards. His corresponding BUP(BA), BUP(wOBA) and BUP(SLG) are -20.8, -26.4 and -42.9. Each of these percentage drops in their corresponding stats are significantly bad. For Mike Trout, Clutch and BUP seem to agree that Mike Trout is a terrible player in the clutch.\n",
    "\n",
    "Likewise, Mookie Betts has a Clutch rating of -.15. This implies his performance remains relatively the same in high leverage situations according to Clutch. He recieved a BUP(BA), BUP(wOBA) and BUP(SLG) of -3.99, -1.00 and 4.5 respectively. Each of which, would be minor changes in those categories. BUP would also conclude that Mookie Betts performance did not change in  high leverage situations. \n",
    "\n",
    "However, we do see some slight disagreements between the two statisitcs. Alex Bregman is considered relatively clutch according to the Clutch scale and neutral according to the BUP scale. Yasmani Grandal is considered the least clutch player in the league according to Clutch, but only negatively leaning according to BUP. Brian Anderson is the most clutch player in the league according to Clutch, but only slightly clutch according to BUP. \n",
    "\n",
    "Although not empiracal, there seems to be a positive correlation between PUP and Clutch."
   ]
  }
 ],
 "metadata": {
  "kernelspec": {
   "display_name": "Python 3",
   "language": "python",
   "name": "python3"
  },
  "language_info": {
   "codemirror_mode": {
    "name": "ipython",
    "version": 3
   },
   "file_extension": ".py",
   "mimetype": "text/x-python",
   "name": "python",
   "nbconvert_exporter": "python",
   "pygments_lexer": "ipython3",
   "version": "3.6.7"
  }
 },
 "nbformat": 4,
 "nbformat_minor": 2
}
